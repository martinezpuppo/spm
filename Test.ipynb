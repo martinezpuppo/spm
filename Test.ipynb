{
  "nbformat": 4,
  "nbformat_minor": 0,
  "metadata": {
    "colab": {
      "name": "Untitled0.ipynb",
      "provenance": [],
      "authorship_tag": "ABX9TyOEswjVL9MzyhLNgwrQW7G6",
      "include_colab_link": true
    },
    "kernelspec": {
      "display_name": "Python 3",
      "name": "python3"
    }
  },
  "cells": [
    {
      "cell_type": "markdown",
      "metadata": {
        "id": "view-in-github",
        "colab_type": "text"
      },
      "source": [
        "<a href=\"https://colab.research.google.com/github/martinezpuppo/spm/blob/main/Test.ipynb\" target=\"_parent\"><img src=\"https://colab.research.google.com/assets/colab-badge.svg\" alt=\"Open In Colab\"/></a>"
      ]
    },
    {
      "cell_type": "code",
      "metadata": {
        "colab": {
          "base_uri": "https://localhost:8080/"
        },
        "id": "qjS14U_fU6mK",
        "outputId": "5188f271-2683-458f-d2cc-cb947bfb2550"
      },
      "source": [
        "# Import pandas library \r\n",
        "import pandas as pd\r\n",
        "# initialize list of lists \r\n",
        "data = [['tom', 10], ['nick', 15], ['juli', 14]]\r\n",
        "# Create the pandas DataFrame \r\n",
        "test = pd.DataFrame(data, columns = ['Name', 'Age'])  \r\n",
        "\r\n",
        "!sudo apt install git\r\n",
        "\r\n",
        "!git clone https://github.com/martinezpuppo/spm\r\n",
        "#!cd spm\r\n",
        "\r\n",
        "#testcsv = test.to_csv(r'test.csv', index=False)\r\n",
        "\r\n",
        "#!git add testcsv\r\n",
        "#!git commit --message=\"Add test\"\r\n",
        "#!git push"
      ],
      "execution_count": 15,
      "outputs": [
        {
          "output_type": "stream",
          "text": [
            "Reading package lists... Done\n",
            "Building dependency tree       \n",
            "Reading state information... Done\n",
            "git is already the newest version (1:2.17.1-1ubuntu0.7).\n",
            "0 upgraded, 0 newly installed, 0 to remove and 15 not upgraded.\n",
            "fatal: destination path 'spm' already exists and is not an empty directory.\n"
          ],
          "name": "stdout"
        }
      ]
    },
    {
      "cell_type": "code",
      "metadata": {
        "colab": {
          "base_uri": "https://localhost:8080/"
        },
        "id": "i6i0QVm2YMN2",
        "outputId": "cc7790f7-4bc5-4e91-b316-58a41cf6a2bd"
      },
      "source": [
        "!ls spm"
      ],
      "execution_count": 11,
      "outputs": [
        {
          "output_type": "stream",
          "text": [
            "scores_sim.csv\n"
          ],
          "name": "stdout"
        }
      ]
    },
    {
      "cell_type": "code",
      "metadata": {
        "id": "PKWbP4RsZiBb"
      },
      "source": [
        ""
      ],
      "execution_count": null,
      "outputs": []
    }
  ]
}